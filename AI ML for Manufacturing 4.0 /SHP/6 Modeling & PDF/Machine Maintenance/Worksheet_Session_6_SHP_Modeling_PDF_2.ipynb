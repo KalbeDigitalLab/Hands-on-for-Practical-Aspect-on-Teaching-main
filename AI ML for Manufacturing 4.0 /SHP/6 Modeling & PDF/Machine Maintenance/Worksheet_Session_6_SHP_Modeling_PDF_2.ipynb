{
  "cells": [
    {
      "cell_type": "markdown",
      "metadata": {
        "id": "JOmOk_9sZNlb"
      },
      "source": [
        "# SESSION 6 SHP - MODELING DISTRIBUTIONS & PDF"
      ]
    },
    {
      "cell_type": "markdown",
      "metadata": {
        "id": "RZruinsJZXUG"
      },
      "source": [
        "## 1. Hubungkan Google Drive dan Google Colab"
      ]
    },
    {
      "cell_type": "markdown",
      "metadata": {
        "id": "i9eK-U_eZdaC"
      },
      "source": [
        "ChatGPT Prompt:\n",
        "\n",
        "Berikan saya code python untuk mengimpor module google drive dan mount google drive saya pada google colab"
      ]
    },
    {
      "cell_type": "code",
      "execution_count": null,
      "metadata": {},
      "outputs": [],
      "source": []
    },
    {
      "cell_type": "markdown",
      "metadata": {
        "id": "QQGXJ1DmZ37L"
      },
      "source": [
        "## 2. Load Dataset"
      ]
    },
    {
      "cell_type": "markdown",
      "metadata": {
        "id": "8z07_yWLZ8Hy"
      },
      "source": [
        "ChatGPT Prompt:\n",
        "\n",
        "Beri kode untuk membaca dataset \"predictive_maintenance.csv\" disimpan dengan nama dataframe 'data', sesuaikan path filenya"
      ]
    },
    {
      "cell_type": "code",
      "execution_count": null,
      "metadata": {},
      "outputs": [],
      "source": []
    },
    {
      "cell_type": "markdown",
      "metadata": {
        "id": "4sa8moEEa1dE"
      },
      "source": [
        "## 3. Modeling Distributions"
      ]
    },
    {
      "cell_type": "markdown",
      "metadata": {
        "id": "4Hqnf1cbbqqS"
      },
      "source": [
        "## 3.1. Distribusi Eksponensial\n",
        "\n",
        "ChatGPT Prompt:\n",
        "\n",
        "Berikan kode python untuk mengkonstruksi distribusi eksponensial untuk kolom \"Torque [Nm]\" pada data untuk mengetahui apakah kolom tersebut mengikuti distribusi eksponensial"
      ]
    },
    {
      "cell_type": "code",
      "execution_count": null,
      "metadata": {},
      "outputs": [],
      "source": []
    },
    {
      "cell_type": "markdown",
      "metadata": {
        "id": "pApdYpPEcncN"
      },
      "source": [
        "## 3.2. Distribusi Normal\n",
        "\n",
        "ChatGPT Prompt:\n",
        "\n",
        "Berikan kode python untuk mengkonstruksi distribusi  normal untuk kolom \"Torque [Nm]\" pada data dalam konteks modeling distributions, kemudian plot grafik dan print nilai estimasi parameter distribusi normal (mean dan std) dari data"
      ]
    },
    {
      "cell_type": "code",
      "execution_count": null,
      "metadata": {},
      "outputs": [],
      "source": []
    },
    {
      "cell_type": "markdown",
      "metadata": {
        "id": "e7FvQfPPdiJ7"
      },
      "source": [
        "ChatGPT Prompt:\n",
        "\n",
        "Berikan code untuk uji normalitas dan print hasil ujinya (mis. p_value)"
      ]
    },
    {
      "cell_type": "code",
      "execution_count": null,
      "metadata": {},
      "outputs": [],
      "source": []
    },
    {
      "cell_type": "markdown",
      "metadata": {
        "id": "g88r_-LzeWYh"
      },
      "source": [
        "## 3.3. Normal Probability Plot\n",
        "\n",
        "ChatGPT Prompt:\n",
        "\n",
        "Berikan kode python untuk mengkonstruksi normal probability plot untuk kolom \"Torque [Nm]\" pada data dalam konteks modeling distributions dan berikan penjelasan untuk menginterpretasikan hasilnya"
      ]
    },
    {
      "cell_type": "code",
      "execution_count": null,
      "metadata": {},
      "outputs": [],
      "source": []
    },
    {
      "cell_type": "markdown",
      "metadata": {
        "id": "ewb_jzfQk0Zp"
      },
      "source": [
        "# 4. PDF (Probability Density Function)\n",
        "\n",
        "## 4.1. KDE dengan berbagai Fungsi Kernel berbeda"
      ]
    },
    {
      "cell_type": "markdown",
      "metadata": {
        "id": "2VTd4FbAk8p0"
      },
      "source": [
        "ChatGPT Prompt:\n",
        "\n",
        "Berikan kode python untuk mengkonstruksi Kernel Density Estimaation dalam 1 grafik dengan berbagai fungsi kernel berbeda untuk kolom \"Torque [Nm]\" pada data dalam konteks probability density function. Kemudian berikan penjelasan untuk menginterpretasikan hasilnya\n"
      ]
    },
    {
      "cell_type": "code",
      "execution_count": null,
      "metadata": {},
      "outputs": [],
      "source": []
    },
    {
      "cell_type": "markdown",
      "metadata": {
        "id": "wdho8x1NrEtD"
      },
      "source": [
        "## 4.2. KDE dengan berbagai Bandwidth berbeda\n",
        "\n",
        "ChatGPT Prompt:\n",
        "\n",
        "Berikan kode python untuk mengkonstruksi Kernel Density Estimaation dalam 1 grafik dengan berbagai bandwidth berbeda untuk kolom \"Torque [Nm]\" pada data dalam konteks probability density function. Kemudian berikan penjelasan untuk menginterpretasikan hasilnya"
      ]
    },
    {
      "cell_type": "code",
      "execution_count": null,
      "metadata": {},
      "outputs": [],
      "source": []
    },
    {
      "cell_type": "markdown",
      "metadata": {
        "id": "PSsRIV5csl5j"
      },
      "source": [
        "## 4.3. Implementasi Histogram\n",
        "\n",
        "ChatGPT Prompt:\n",
        "\n",
        "Berikan kode python untuk mengimplementasikan histogram untuk probability density function pada kolom \"Torque [Nm]\" dalam data. Kemudian berikan penjelasan untuk menginterpretasikan hasilnya"
      ]
    },
    {
      "cell_type": "code",
      "execution_count": null,
      "metadata": {},
      "outputs": [],
      "source": []
    },
    {
      "cell_type": "markdown",
      "metadata": {
        "id": "ZRUQAZf3thNc"
      },
      "source": [
        "## 4.4. Implementasi CDF\n",
        "\n",
        "ChatGPT Prompt:\n",
        "\n",
        "Berikan kode python untuk mengimplementasikan CDF untuk   probability density function pada  kolom \"Torque [Nm]\" dalam data. Kemudian berikan penjelasan untuk menginterpretasikan hasilnya"
      ]
    },
    {
      "cell_type": "code",
      "execution_count": null,
      "metadata": {},
      "outputs": [],
      "source": []
    },
    {
      "cell_type": "markdown",
      "metadata": {
        "id": "UOLyr-CXvRoA"
      },
      "source": [
        "## 4.5. Goodness of Fit Test\n",
        "\n",
        "ChatGPT Prompt:\n",
        "\n",
        "Berikan code python untuk menentukan distribusi yang cocok dengan kolom \"Torque [Nm]\" pada data dengan menggunakan uji:\n",
        "\n",
        "Kolmogorov-Smirnov test​\n",
        "\n",
        "Anderson-Darling Test​\n",
        "\n",
        "Shapiro-Wilk Test​"
      ]
    },
    {
      "cell_type": "code",
      "execution_count": null,
      "metadata": {},
      "outputs": [],
      "source": []
    },
    {
      "cell_type": "markdown",
      "metadata": {
        "id": "mOze647FtX5U"
      },
      "source": [
        "## 4.6. Moment (Skewness, Kurtosis)\n",
        "\n",
        "ChatGPT Prompt:\n",
        "\n",
        "Berikan code untuk menghitung momen untuk kolom \"Torque [Nm]\" dari data"
      ]
    },
    {
      "cell_type": "code",
      "execution_count": null,
      "metadata": {},
      "outputs": [],
      "source": []
    }
  ],
  "metadata": {
    "colab": {
      "provenance": []
    },
    "kernelspec": {
      "display_name": "Python 3",
      "name": "python3"
    },
    "language_info": {
      "name": "python"
    }
  },
  "nbformat": 4,
  "nbformat_minor": 0
}
