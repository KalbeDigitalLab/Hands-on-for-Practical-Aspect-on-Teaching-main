{
  "cells": [
    {
      "attachments": {},
      "cell_type": "markdown",
      "metadata": {
        "id": "WUiEtPkwa52c"
      },
      "source": [
        "# Session 9 B7 SAKA\n",
        "# Relationships Between Variables\n",
        "\n",
        "**Outline:**\n",
        "1. Load Data\n",
        "2. Correlation Analysis\n",
        "  * Pearson's Correlation\n",
        "  * Spearman's Rank\n",
        "  * Kendall Tau\n",
        "3. Scatter Plot\n",
        "4. Nonlinear Relationships\n",
        "  * Locally Weighted Scatterplot Smoothing\n"
      ]
    },
    {
      "attachments": {},
      "cell_type": "markdown",
      "metadata": {
        "id": "iappj1pAjpyN"
      },
      "source": [
        "## 1. Load Data"
      ]
    },
    {
      "attachments": {},
      "cell_type": "markdown",
      "metadata": {
        "id": "hky2Rq9VZQeU"
      },
      "source": [
        "ChatGPT Prompt:\n",
        "\n",
        "Berikan kode python untuk menghubungkan google colab dengan google drive"
      ]
    },
    {
      "cell_type": "code",
      "execution_count": null,
      "metadata": {},
      "outputs": [],
      "source": []
    },
    {
      "attachments": {},
      "cell_type": "markdown",
      "metadata": {
        "id": "8mZQKhDlZUo5"
      },
      "source": [
        "ChatGPT Prompt:\n",
        "\n",
        "Berikan kode python untuk membaca 5 data pertama pada dataset file \"Chiller.xlsx\" disimpan dengan nama dataframe 'data', sesuaikan path filenya"
      ]
    },
    {
      "cell_type": "code",
      "execution_count": null,
      "metadata": {},
      "outputs": [],
      "source": []
    },
    {
      "attachments": {},
      "cell_type": "markdown",
      "metadata": {
        "id": "HXgUbkSiowGz"
      },
      "source": [
        "ChatGPT Prompt:\n",
        "\n",
        "Berikan kode python untuk menampilkan info dari data"
      ]
    },
    {
      "cell_type": "code",
      "execution_count": null,
      "metadata": {},
      "outputs": [],
      "source": []
    },
    {
      "attachments": {},
      "cell_type": "markdown",
      "metadata": {
        "id": "cydCfpn4xe8c"
      },
      "source": [
        "## 2. Correlation Analysis"
      ]
    },
    {
      "attachments": {},
      "cell_type": "markdown",
      "metadata": {
        "id": "X4elrkhmoC8f"
      },
      "source": [
        "### 2.1. Pearson's Correlation\n",
        "ChatGPT Prompt:\n",
        "\n",
        "\n",
        "Lanjutkan kode untuk menampilkan Correlation Analysis pada data dengan menggunakan visualisasi heatmap"
      ]
    },
    {
      "cell_type": "code",
      "execution_count": null,
      "metadata": {},
      "outputs": [],
      "source": []
    },
    {
      "attachments": {},
      "cell_type": "markdown",
      "metadata": {},
      "source": [
        "Dalam fungsi corr() dariLibrary Pandas, yang digunakan adalah korelasi Pearson. Korelasi Pearson adalah metode korelasi yang mengukur hubungan linier antara dua variabel. Nilai korelasi Pearson (r) berkisar antara -1 hingga 1, di mana:\n",
        "\n",
        "* r = 1 menunjukkan hubungan positif sempurna (korelasi positif sempurna).\n",
        "* r = -1 menunjukkan hubungan negatif sempurna (korelasi negatif sempurna).\n",
        "* r = 0 menunjukkan tidak ada hubungan linier antara dua variabel."
      ]
    },
    {
      "attachments": {},
      "cell_type": "markdown",
      "metadata": {
        "id": "oz55Vnu7qwfE"
      },
      "source": [
        "\n",
        "Gambar matriks korelasi di atas menunjukkan hubungan antara 13 variabel numerik yang diukur dari sebuah chiller.\n",
        "\n",
        "Nilai korelasi antara dua variabel diwakili oleh angka di dalam sel matriks. Angka tersebut dapat berkisar antara -1 hingga 1. Angka positif menunjukkan korelasi positif, sedangkan angka negatif menunjukkan korelasi negatif. Semakin mendekati 1, semakin kuat korelasi antara dua variabel. Semakin mendekati -1, semakin kuat korelasi negatif antara dua variabel.\n",
        "\n",
        "Berdasarkan matriks korelasi di atas, dapat disimpulkan bahwa:\n",
        "\n",
        "**1. Variabel-variabel yang paling berkorelasi kuat adalah:**\n",
        "\n",
        "  * Evap LWT dan Evap EWT (korelasi positif sebesar 0,93)\n",
        "  * Unit Capacity dan Evap Sat Temperature (korelasi positif sebesar 0,79)\n",
        "  * Oil Pressure dan Run Hour Kompresor (korelasi positif sebesar 0,79)\n",
        "  * Tekanan Return Chiller dan Tekanan Supply Chiller (korelasi positif sebesar 0,97)\n",
        "\n",
        "**2. Variabel-variabel yang paling berkorelasi negatif adalah:**\n",
        "  * Evap LWT dan Discharge Temperature (korelasi negatif sebesar 0,79)\n",
        "  * Unit Capacity dan Discharge Temperature (korelasi negatif sebesar 0,59)\n",
        "  * Oil Pressure dan Discharge Temperature (korelasi negatif sebesar 0,50)\n",
        "\n",
        "**3. Variabel-variabel yang tidak berkorelasi signifikan adalah:**\n",
        "  * Inlet Softwater dan Tekanan Return Chiller (korelasi sebesar 0,09)\n",
        "  * Inlet Softwater dan Tekanan Supply Chiller (korelasi sebesar 0,09)\n",
        "  * Tekanan Sebelum Pompa dan Tekanan Sesudah Pompa (korelasi sebesar 0,00)\n",
        "  * Ampere R-S dan Ampere S-T (korelasi sebesar 0,09)\n",
        "\n",
        "Informasi dari matriks korelasi ini dapat digunakan untuk memahami hubungan antara variabel-variabel yang diukur dari chiller. Misalnya, korelasi positif yang kuat antara Evap LWT dan Evap EWT menunjukkan bahwa kedua variabel tersebut cenderung berubah secara bersamaan. Hal ini dapat berarti bahwa perubahan pada suhu kondensor evaporator akan menyebabkan perubahan pada suhu evaporasi evaporator.\n",
        "\n",
        "Korelasi negatif yang kuat antara Evap LWT dan Discharge Temperature menunjukkan bahwa kedua variabel tersebut cenderung bergerak berlawanan arah. Hal ini dapat berarti bahwa peningkatan suhu kondensor evaporator akan menyebabkan penurunan suhu evaporasi evaporator.\n",
        "\n",
        "Korelasi yang tidak signifikan menunjukkan bahwa tidak ada hubungan yang kuat antara dua variabel. Hal ini dapat berarti bahwa perubahan pada satu variabel tidak akan menyebabkan perubahan yang signifikan pada variabel lainnya."
      ]
    },
    {
      "attachments": {},
      "cell_type": "markdown",
      "metadata": {
        "id": "AL8_tJIo063_"
      },
      "source": [
        "### 2.2. Spearman's Rank\n",
        "\n",
        "ChatGPT Prompt:\n",
        "\n",
        "Berikan kode untuk menampilkan Correlation Analysis menggunakan Spearman Rank pada data dengan visualisasi heatmap menggunakan tema warna cmap yang berbeda dari matriks korelasi pearson sebelumnya"
      ]
    },
    {
      "cell_type": "code",
      "execution_count": null,
      "metadata": {},
      "outputs": [],
      "source": []
    },
    {
      "attachments": {},
      "cell_type": "markdown",
      "metadata": {
        "id": "DEC44mcd0fq2"
      },
      "source": [
        "### 2.3. Kendall Tau\n",
        "\n",
        "ChatGPT Prompt:\n",
        "\n",
        "Berikan kode untuk menampilkan Correlation Analysis menggunakan Kendall Tau pada data dengan visualisasi heatmap menggunakan tema warna cmap yang berbeda dari matriks korelasi pearson dan spearman sebelumnya"
      ]
    },
    {
      "cell_type": "code",
      "execution_count": null,
      "metadata": {},
      "outputs": [],
      "source": []
    },
    {
      "attachments": {},
      "cell_type": "markdown",
      "metadata": {
        "id": "sIInbT9cr4uC"
      },
      "source": [
        "## 3. Scatter Plot\n",
        "\n",
        "ChatGPT Prompt:\n",
        "\n",
        "Tampilkan scatter plot \"Evap LWT\" dan \"Evap EWT\" pada data tersebut dan berikan kode untuk menganalisa kekuatan hubungannya"
      ]
    },
    {
      "cell_type": "code",
      "execution_count": null,
      "metadata": {},
      "outputs": [],
      "source": []
    },
    {
      "attachments": {},
      "cell_type": "markdown",
      "metadata": {
        "id": "e0Qpe5EO5dxm"
      },
      "source": [
        "## 4. Non Linear Relationship\n",
        "\n",
        "## LOWESS (Locally Weighted Scatterplot Smoothing)\n",
        "\n",
        "ChatGPT Prompt:\n",
        "\n",
        "Berikan code untuk melakukan Locally Weighted Scatterplot Smoothing pada data chiller yang sebelumnya telah di load untuk kolom \"Evap LWT\" dan \"Evap EWT\""
      ]
    },
    {
      "cell_type": "code",
      "execution_count": null,
      "metadata": {},
      "outputs": [],
      "source": []
    },
    {
      "attachments": {},
      "cell_type": "markdown",
      "metadata": {
        "id": "bocjhC9L5WUf"
      },
      "source": [
        "Dalam grafik diatas, LOESS digunakan untuk menghaluskan scatterplot antara variabel Y dan variabel X. Grafik asli menunjukkan bahwa ada beberapa titik data yang menyimpang dari tren umum. LOESS digunakan untuk mengurangi pengaruh titik data yang menyimpang ini dan menghasilkan garis tren yang lebih halus."
      ]
    }
  ],
  "metadata": {
    "colab": {
      "provenance": []
    },
    "kernelspec": {
      "display_name": "Python 3",
      "name": "python3"
    },
    "language_info": {
      "name": "python"
    }
  },
  "nbformat": 4,
  "nbformat_minor": 0
}
