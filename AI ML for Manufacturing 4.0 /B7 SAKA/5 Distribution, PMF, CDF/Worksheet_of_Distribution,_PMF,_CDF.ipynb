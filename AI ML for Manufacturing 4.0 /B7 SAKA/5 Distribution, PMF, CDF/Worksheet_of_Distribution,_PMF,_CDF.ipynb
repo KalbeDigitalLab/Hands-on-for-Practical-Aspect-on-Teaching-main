{
  "nbformat": 4,
  "nbformat_minor": 0,
  "metadata": {
    "colab": {
      "provenance": []
    },
    "kernelspec": {
      "name": "python3",
      "display_name": "Python 3"
    },
    "language_info": {
      "name": "python"
    }
  },
  "cells": [
    {
      "cell_type": "markdown",
      "source": [
        "#Dataset Predictive Maintanance\n",
        "\n",
        "* Predictive maintenance adalah pendekatan yang digunakan dalam **pemeliharaan peralatan dan mesin industri** yang melibatkan penggunaan data dan analisis prediktif untuk **meramalkan kapan peralatan akan mengalami kerusakan atau kegagalan** sehingga **tindakan perawatan dapat diambil sebelum kegagalan tersebut terjadi.**\n",
        "* Dataset predictive maintenance adalah kumpulan data yang digunakan untuk **melatih model prediktif** yang dapat **memprediksi kapan peralatan akan memerlukan perawatan.**\n",
        "* Dataset predictive maintenance biasanya mencakup data yang mencerminkan **kondisi peralatan, informasi waktu pemeliharaan sebelumnya,** dan informasi lainnya yang dapat digunakan untuk mengembangkan model prediktif.\n",
        "* Tujuan utama dari penggunaan dataset ini adalah untuk **meningkatkan efisiensi operasional dan mengurangi downtime mesin dengan melakukan perawatan yang lebih tepat waktu.**\n",
        "* Dataset predictive maintenance sering digunakan dalam berbagai industri, termasuk manufaktur, perawatan fasilitas, energi, dan transportasi. Mereka membantu organisasi menghindari kerusakan yang tidak terduga dan mengoptimalkan jadwal perawatan, yang pada akhirnya dapat menghemat waktu dan biaya."
      ],
      "metadata": {
        "id": "I0htT4i-pFu2"
      }
    },
    {
      "cell_type": "markdown",
      "source": [
        "# Penjelasan Fitur-fitur\n",
        "\n",
        "1. UDI (Unique Device Identifier)-Metadata:\n",
        "    - Ini adalah kolom yang berisi identifikasi unik untuk setiap perangkat atau unit dalam dataset. Ini adalah atribut yang digunakan untuk mengidentifikasi dan melacak perangkat secara individu.\n",
        "2. Type-Feature:\n",
        "    - Ini adalah tipe perangkat atau unit yang diamati. Nilainya dapat berupa H (High), L (Low), atau M (Medium), yang mungkin mencerminkan karakteristik atau kelas peralatan tertentu.\n",
        "3. Air Temperature [K]-Feature:\n",
        "    - Ini adalah kolom yang mencatat suhu udara dalam Kelvin (K) yang terkait dengan perangkat atau unit yang diamati.\n",
        "4. Process Temperature [K]-Feature:\n",
        "    - Ini adalah kolom yang mencatat suhu proses dalam Kelvin (K) yang terkait dengan perangkat atau unit yang diamati.\n",
        "5. Rotational Speed [rpm]-Feature:\n",
        "    - Ini adalah kolom yang mencatat kecepatan rotasi dalam revolusi per menit (rpm) yang terkait dengan perangkat atau unit.\n",
        "6. Torque [Nm]-Feature:\n",
        "    - Ini adalah kolom yang mencatat torsi yang dihasilkan oleh perangkat atau unit dalam Newton-meter (Nm).\n",
        "7. Target-Target:\n",
        "    - Ini adalah kolom target yang akan diprediksi oleh model. Nilainya dapat berupa 0 atau 1, yang mungkin mencerminkan apakah perangkat akan mengalami kegagalan (1) atau tidak (0).\n",
        "8. Failure Type-Target:\n",
        "    - Ini adalah kolom yang mencatat jenis kegagalan yang mungkin dialami oleh perangkat. Nilainya dapat mencakup berbagai jenis kegagalan, seperti Heat Dissipation Failure, No Failure, Power Failure, Random Failures, Tool Wear Failure, dan Overstrain Failure.\n",
        "9. Product ID-Metadata:\n",
        "    - Ini adalah kolom yang mencatat identifikasi produk yang terkait dengan perangkat atau unit dalam dataset."
      ],
      "metadata": {
        "id": "PtCT7WJ2psms"
      }
    },
    {
      "cell_type": "markdown",
      "source": [
        "Prompt: Cara menghubungkan google colab dengan google drive"
      ],
      "metadata": {
        "id": "RH1VCXdho7oL"
      }
    },
    {
      "cell_type": "code",
      "execution_count": null,
      "metadata": {
        "id": "w97tbEmNi_3n"
      },
      "outputs": [],
      "source": []
    },
    {
      "cell_type": "markdown",
      "source": [
        "Prompt: Beri kode untuk membaca dataset"
      ],
      "metadata": {
        "id": "O86oMBVrvS5s"
      }
    },
    {
      "cell_type": "code",
      "source": [],
      "metadata": {
        "id": "gJsmBsHnvQgi"
      },
      "execution_count": null,
      "outputs": []
    },
    {
      "cell_type": "markdown",
      "source": [
        "Prompt: Beri kode untuk menampilkan info dataframe dengan nama dataframe \"data\""
      ],
      "metadata": {
        "id": "TTBQkxmKvvNf"
      }
    },
    {
      "cell_type": "code",
      "source": [],
      "metadata": {
        "id": "sW689G1JvxqT"
      },
      "execution_count": null,
      "outputs": []
    },
    {
      "cell_type": "markdown",
      "source": [
        "Prompt: Beri kode untuk menampilkan distribusi fitur-fitur berikut, Type, Air temperature [K] , Process temperature [K], Rotational speed [rpm], Torque [Nm], Tool wear [min], Target, Failure Type"
      ],
      "metadata": {
        "id": "wx14hNWCyHBg"
      }
    },
    {
      "cell_type": "code",
      "source": [],
      "metadata": {
        "id": "_fEgk1D4wSRQ"
      },
      "execution_count": null,
      "outputs": []
    },
    {
      "cell_type": "markdown",
      "source": [
        "Prompt: Beri kode untuk menampilkan distribusi fitur Failure Type (No Failure, Heat Dissipation Failure, Power Failure, Overstrain Failure, Tool Wear Failure, dan Rando Failures) dengan meninggalkan data \"No Failure\"."
      ],
      "metadata": {
        "id": "IA1bbr9AyOFc"
      }
    },
    {
      "cell_type": "code",
      "source": [],
      "metadata": {
        "id": "StCBFP0Bwz3t"
      },
      "execution_count": null,
      "outputs": []
    },
    {
      "cell_type": "markdown",
      "source": [
        "Prompt: Beri kode untuk menampilkan boxplot fitur-fitur berikut, Air temperature [K] , Process temperature [K], Rotational speed [rpm], Torque [Nm], Tool wear [min]"
      ],
      "metadata": {
        "id": "nzWxgPUt5Se-"
      }
    },
    {
      "cell_type": "code",
      "source": [],
      "metadata": {
        "id": "EVD_-C0p4lVq"
      },
      "execution_count": null,
      "outputs": []
    },
    {
      "cell_type": "markdown",
      "source": [
        "Prompt: Beri kode untuk menampilkan boxplot fitur-fitur berikut, Air temperature [K] , Process temperature [K], Rotational speed [rpm], Torque [Nm], Tool wear [min] dengan grafik boxplot terpisah untuk masing-masing fitur."
      ],
      "metadata": {
        "id": "yRtnLDZY482R"
      }
    },
    {
      "cell_type": "code",
      "source": [],
      "metadata": {
        "id": "bAOZP0Dn4yxa"
      },
      "execution_count": null,
      "outputs": []
    },
    {
      "cell_type": "markdown",
      "source": [
        "Prompt: Beri kode untuk menampilkan boxplot fitur-fitur berikut, Air temperature [K] , Process temperature [K], Rotational speed [rpm], Torque [Nm], Tool wear [min] dengan grafik boxplot terpisah untuk masing-masing fitur, dan ditampilkan secara horizontal."
      ],
      "metadata": {
        "id": "0QqnO_OS5C7C"
      }
    },
    {
      "cell_type": "code",
      "source": [],
      "metadata": {
        "id": "mRqegB175AKN"
      },
      "execution_count": null,
      "outputs": []
    },
    {
      "cell_type": "markdown",
      "source": [
        "Prompt: Beri kode untuk menampilkan probability of 'Target' at given 'Air temperature [K]'"
      ],
      "metadata": {
        "id": "7HHhtuu003ws"
      }
    },
    {
      "cell_type": "code",
      "source": [],
      "metadata": {
        "id": "l1V2Hp0F0ezf"
      },
      "execution_count": null,
      "outputs": []
    },
    {
      "cell_type": "markdown",
      "source": [
        "Prompt: Beri kode untuk menampilkan probability of 'Target' at given 'Tool wear [min]' bin width 50"
      ],
      "metadata": {
        "id": "GojVm5Tt4IIP"
      }
    },
    {
      "cell_type": "code",
      "source": [],
      "metadata": {
        "id": "Sg4dwPMz0_xb"
      },
      "execution_count": null,
      "outputs": []
    }
  ]
}