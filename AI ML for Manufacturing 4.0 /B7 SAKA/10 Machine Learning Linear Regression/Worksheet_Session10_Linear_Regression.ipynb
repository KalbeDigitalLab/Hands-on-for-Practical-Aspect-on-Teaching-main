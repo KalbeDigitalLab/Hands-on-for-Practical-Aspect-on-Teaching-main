{
  "cells": [
    {
      "cell_type": "markdown",
      "metadata": {
        "id": "1IvppSw-IQex"
      },
      "source": [
        "# Session 10 SHP - Machine Learning\n",
        "\n",
        "## Linear Regression\n",
        "\n",
        "Dalam Machine Learning, Linear Regression adalah metode untuk memprediksi nilai numerik berdasarkan hubungan linier antara variabel independen (fitur) dan variabel dependen (target).\n",
        "\n",
        "**Analisis Efisiensi Energi Kompressor**\n",
        "* **Deskripsi**: Memfokuskan pada bagaimana regresi linear dapat membantu dalam memahami konsumsi energi kompresor. Pengetahuan ini dapat digunakan untuk mengidentifikasi cara-cara mengurangi konsumsi energi dan meningkatkan efisiensi operasional.\n",
        "* **Target**: Ampere Kompressor\n",
        "* **Fitur Potensial**:\n",
        "  * **Discharge Temperature dan Suction Temperature**: Suhu ini memberikan informasi tentang kondisi termal di dalam kompresor, yang mempengaruhi efisiensi dan konsumsi energi.\n",
        "  * **Oil Pressure**: Tekanan oli berhubungan dengan kondisi operasional kompresor dan dapat mempengaruhi konsumsi energi.\n",
        "  * **Cond Sat Temperature**: Suhu kondensator juga mempengaruhi beban termal dan efisiensi kompresor."
      ]
    },
    {
      "cell_type": "markdown",
      "metadata": {
        "id": "4_xzqd7UKXWY"
      },
      "source": [
        "## 1. Load Dataset \"Chiller.xlsx\""
      ]
    },
    {
      "cell_type": "markdown",
      "metadata": {
        "id": "3rw-bUdhKhB-"
      },
      "source": [
        "**ChatGPT Prompt:**\n",
        "\n",
        "Berikan saya code python untuk menghubungkan google colab dengan google drive"
      ]
    },
    {
      "cell_type": "code",
      "execution_count": null,
      "metadata": {},
      "outputs": [],
      "source": []
    },
    {
      "cell_type": "markdown",
      "metadata": {
        "id": "6w_PdCGPKuQS"
      },
      "source": [
        "**ChatGPT Prompt:**\n",
        "\n",
        "Berikan code untuk load dataset \"Chiller.xlsx' pada folder Dataset di google drive"
      ]
    },
    {
      "cell_type": "code",
      "execution_count": null,
      "metadata": {},
      "outputs": [],
      "source": []
    },
    {
      "cell_type": "markdown",
      "metadata": {
        "id": "aP6Vc7kPLl2V"
      },
      "source": [
        "## 2. EDA (Exploratory Data Analysis)"
      ]
    },
    {
      "cell_type": "markdown",
      "metadata": {
        "id": "ZJ37OZMfLcK-"
      },
      "source": [
        "**ChatGPT Prompt:**\n",
        "\n",
        "Berikan code untuk melakukan EDA pada dataset tersebut"
      ]
    },
    {
      "cell_type": "code",
      "execution_count": null,
      "metadata": {},
      "outputs": [],
      "source": []
    },
    {
      "cell_type": "markdown",
      "metadata": {
        "id": "2_DxPVfpPhAm"
      },
      "source": [
        "## 3. Feature Selection\n",
        "\n",
        "Feature selection adalah proses memilih fitur yang paling relevan untuk digunakan dalam model Machine Learning. Dalam konteks Simple Linear Regression, yang merupakan metode regresi paling dasar dan mengasumsikan hubungan linear antara satu fitur independen dan variabel dependen (target), feature selection menjadi sangat penting untuk memastikan efektivitas dan efisiensi model."
      ]
    },
    {
      "cell_type": "markdown",
      "metadata": {
        "id": "hPrxlMMeNd4U"
      },
      "source": [
        "**Target: Ampere Kompressor**\n",
        "\n",
        "**Ampere Kompressor** mengukur arus listrik yang dikonsumsi oleh kompressor. Dalam konteks chiller, ini adalah indikator penting dari konsumsi energi. Mengoptimalkan konsumsi energi kompressor tidak hanya menghemat biaya tetapi juga dapat meningkatkan umur peralatan dan efisiensi operasional.\n",
        "\n",
        "**Fitur dan Pengaruhnya**\n",
        "1. **Cond Sat Temperature (Suhu Jenuh Kondensator)**\n",
        "  * Pengaruh: Suhu jenuh kondensator yang lebih tinggi dapat menunjukkan bahwa kondensator harus mengeluarkan lebih banyak panas, yang mengakibatkan kompressor bekerja lebih keras. Ini sering terkait dengan kondisi lingkungan atau beban pendinginan yang tinggi.\n",
        "  * Analisis: Menganalisis korelasi antara suhu jenuh kondensator dan ampere kompressor akan membantu memahami seberapa efisien kondensator bekerja dan bagaimana hal ini mempengaruhi konsumsi energi kompressor.\n",
        "2. **Discharge Temperature (Suhu Pembuangan)**\n",
        "  * Pengaruh: Suhu pembuangan tinggi biasanya mengindikasikan bahwa kompressor bekerja lebih keras, yang meningkatkan konsumsi energi. Hal ini bisa disebabkan oleh berbagai faktor, termasuk beban termal tinggi, kondisi operasional yang tidak optimal, atau isu pemeliharaan.\n",
        "  * Analisis: Dengan menganalisis hubungan antara suhu pembuangan dan ampere kompressor, kita dapat mengidentifikasi kondisi di mana efisiensi energi berkurang.\n",
        "\n",
        "3. **Oil Pressure (Tekanan Oli)**\n",
        "  * Pengaruh: Tekanan oli yang tidak optimal bisa menyebabkan peningkatan gesekan dan keausan pada kompresor, yang mempengaruhi efisiensi dan konsumsi energinya. Tekanan yang terlalu rendah atau terlalu tinggi sama-sama merugikan.\n",
        "  * Analisis: Melalui regresi linear, kita dapat menilai seberapa signifikan pengaruh tekanan oli terhadap konsumsi energi kompressor dan menentukan nilai tekanan oli optimal untuk efisiensi maksimal.\n",
        "  \n",
        "Dalam konteks pabrik, pemahaman ini sangat berguna untuk mengidentifikasi area di mana efisiensi dapat ditingkatkan, baik melalui pengaturan operasional, pemeliharaan rutin, atau upgrade peralatan. Dengan menerapkan model regresi linear, Anda dapat mengquantifikasi hubungan ini dan menggunakan wawasan tersebut untuk membuat keputusan yang lebih tepat dan efektif dalam mengelola sistem chiller."
      ]
    },
    {
      "cell_type": "markdown",
      "metadata": {
        "id": "Rfux_9pePnYK"
      },
      "source": [
        "**ChatGPT Prompt:**\n",
        "\n",
        "Berikan code untuk membagi dataset menjadi data training dan testing untuk machine learning. Atur kolom \"Cond Sat Temperature\" menjadi fitur dan kolom \"Ampere Kompressor\" menjadi target\n"
      ]
    },
    {
      "cell_type": "code",
      "execution_count": null,
      "metadata": {},
      "outputs": [],
      "source": []
    },
    {
      "cell_type": "markdown",
      "metadata": {
        "id": "gbf3VBfJRL98"
      },
      "source": [
        "## 4. Training Machine Learning\n",
        "\n",
        "Untuk melatih model regresi linier menggunakan dataset yang Anda miliki dan kemudian mengevaluasi model tersebut, Anda dapat menggunakan library scikit-learn di Python. Langkah-langkahnya termasuk melatih model dengan data training (X_train dan y_train) dan kemudian mengevaluasi kinerjanya dengan data testing (X_test dan y_test)."
      ]
    },
    {
      "cell_type": "markdown",
      "metadata": {
        "id": "3EAyKHXHTlRz"
      },
      "source": [
        "**ChatGPT Prompt:**\n",
        "\n",
        "Berikan code untuk melakukan training machine learning dengan linear regresi dan evaluasi model machine learning pada dataset"
      ]
    },
    {
      "cell_type": "code",
      "execution_count": null,
      "metadata": {},
      "outputs": [],
      "source": []
    },
    {
      "cell_type": "markdown",
      "metadata": {
        "id": "JtfdA7ztRbZt"
      },
      "source": [
        "Dalam kode ini:\n",
        "\n",
        "* **LinearRegression()** digunakan untuk membuat instance model regresi linier.\n",
        "* **fit** digunakan untuk melatih model dengan data training.\n",
        "* **predict** digunakan untuk membuat prediksi pada data testing.\n",
        "* **mean_squared_error** dan **r2_score** digunakan untuk menghitung metrik evaluasi. Mean Squared Error (MSE) adalah rata-rata kuadrat error antara nilai sebenarnya dan nilai prediksi, sedangkan R^2 Score (koefisien determinasi) mengukur seberapa baik model dapat menjelaskan variabilitas data.\n",
        "\n",
        "Metrik evaluasi ini memberikan informasi tentang kinerja model. MSE yang rendah dan R^2 yang tinggi menunjukkan model yang lebih baik. Namun, interpretasi metrik ini juga harus mempertimbangkan konteks dan jenis data yang digunakan."
      ]
    },
    {
      "cell_type": "markdown",
      "metadata": {
        "id": "CqNVTciBSGbC"
      },
      "source": [
        "## 5. Actual vs Predicted\n",
        "\n",
        "**ChatGPT Prompt:**\n",
        "\n",
        "Berikan code untuk menampilkan data prediksi dari hasil linear regression dengan data sebenarnya"
      ]
    },
    {
      "cell_type": "code",
      "execution_count": null,
      "metadata": {},
      "outputs": [],
      "source": []
    },
    {
      "cell_type": "markdown",
      "metadata": {
        "id": "ezos1fCaXM_9"
      },
      "source": [
        "**ChatGPT Prompt**\n",
        "\n",
        "Berikan code untuk menampilkan scatter plot dari linear regression yang telah dilatih"
      ]
    },
    {
      "cell_type": "code",
      "execution_count": null,
      "metadata": {},
      "outputs": [],
      "source": []
    },
    {
      "cell_type": "markdown",
      "metadata": {
        "id": "YZt7Wo4aVpnd"
      },
      "source": [
        "**ChatGPT Prompt:**\n",
        "\n",
        "Berikan code untuk melakukan prediksi nilai baru misalkan nilai Cond Sat Temperature = 42.5 pada model machine learning yang telah dibuat"
      ]
    },
    {
      "cell_type": "code",
      "execution_count": null,
      "metadata": {},
      "outputs": [],
      "source": []
    }
  ],
  "metadata": {
    "accelerator": "GPU",
    "colab": {
      "gpuType": "T4",
      "provenance": []
    },
    "kernelspec": {
      "display_name": "Python 3",
      "name": "python3"
    },
    "language_info": {
      "name": "python"
    }
  },
  "nbformat": 4,
  "nbformat_minor": 0
}
