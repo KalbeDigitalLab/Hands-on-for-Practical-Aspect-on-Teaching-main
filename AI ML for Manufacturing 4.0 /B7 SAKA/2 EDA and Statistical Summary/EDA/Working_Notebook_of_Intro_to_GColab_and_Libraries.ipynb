{
  "nbformat": 4,
  "nbformat_minor": 0,
  "metadata": {
    "colab": {
      "provenance": [],
      "gpuType": "T4"
    },
    "kernelspec": {
      "name": "python3",
      "display_name": "Python 3"
    },
    "language_info": {
      "name": "python"
    },
    "accelerator": "GPU"
  },
  "cells": [
    {
      "cell_type": "markdown",
      "source": [
        "##**PENGENALAN TOOL GOOGLE COLAB, EDA, DAN PENGENALAN LIBRARIES**"
      ],
      "metadata": {
        "id": "b-w2UUx-kJCp"
      }
    },
    {
      "cell_type": "markdown",
      "source": [
        "##**Manufacturing Cost Case**\n",
        "\n",
        "Relationship between manufacturing cost and number of units\n",
        "\n",
        "Reference:\n",
        "1. https://www.kaggle.com/datasets/vinicius150987/manufacturing-cost\n",
        "\n",
        "\n",
        "**About the Data**\n",
        "\n",
        "A manufacturing cost dataset with two columns, \"Unit of part\" and \"The cost of manufacturing,\" is a collection of data points that provides information on the relationship between the production volume (number of units produced) and the associated cost of manufacturing for a startup company. Here's a breakdown of the dataset based on the provided context:\n",
        "\n",
        "1. **Unit of Part:** This column represents the independent variable in the dataset. It corresponds to the number of units or parts produced by the startup company during a specific production run. Each row in the dataset contains a different value for this variable, reflecting different production quantities.\n",
        "\n",
        "2. **The Cost of Manufacturing:** This column represents the dependent variable in the dataset. It corresponds to the cost incurred by the startup company to manufacture the corresponding number of units listed in the \"Unit of Part\" column. The cost of manufacturing can include expenses related to raw materials, labor, machinery, overhead, and other production-related costs.\n",
        "\n",
        "The model you develop can be used for various purposes, such as:\n",
        "\n",
        "1. Cost Estimation: Predicting manufacturing costs for different production quantities, helping the startup plan its budget and pricing strategies.\n",
        "\n",
        "2. Decision-Making: Assisting the startup in making informed decisions about production levels, inventory management, and scaling operations.\n",
        "\n",
        "3. Profitability Analysis: Evaluating the impact of production volume on profit margins and identifying the optimal production quantity for maximizing profitability."
      ],
      "metadata": {
        "id": "BVN-LbgX5r-6"
      }
    },
    {
      "cell_type": "markdown",
      "source": [
        "##**1. PENGENALAN GOOGLE COLAB**"
      ],
      "metadata": {
        "id": "8paxjHPKmm3Z"
      }
    },
    {
      "cell_type": "markdown",
      "source": [
        "Prompt:\n",
        "1. Cara memulai membuat notebook di google colab"
      ],
      "metadata": {
        "id": "-BEvgD8gUErT"
      }
    },
    {
      "cell_type": "markdown",
      "source": [
        "Prompt:\n",
        "2. Cara mengubah tipe runtime di google colab"
      ],
      "metadata": {
        "id": "T-tn6dgghhlm"
      }
    },
    {
      "cell_type": "code",
      "source": [],
      "metadata": {
        "id": "YtrBpku5hTkt"
      },
      "execution_count": null,
      "outputs": []
    },
    {
      "cell_type": "markdown",
      "source": [
        "##**2. EDA DAN PENGENALAN LIBRARY**"
      ],
      "metadata": {
        "id": "l3UOL-N9ms-Q"
      }
    },
    {
      "cell_type": "markdown",
      "source": [
        "###**2.1. LIBRAY PANDAS UNTUK MEMBACA DATA**"
      ],
      "metadata": {
        "id": "HA7gYcryk55B"
      }
    },
    {
      "cell_type": "markdown",
      "source": [
        "Prompt:\n",
        "3. Cara read dataset di google drive"
      ],
      "metadata": {
        "id": "QtUQIYcmh0rD"
      }
    },
    {
      "cell_type": "code",
      "source": [],
      "metadata": {
        "id": "r6bvgQBJ5d2e"
      },
      "execution_count": null,
      "outputs": []
    },
    {
      "cell_type": "code",
      "source": [],
      "metadata": {
        "id": "x6_RBMCp5fqj"
      },
      "execution_count": null,
      "outputs": []
    },
    {
      "cell_type": "markdown",
      "source": [
        "Prompt:\n",
        "4. Beri kode untuk menampilkan dataframe berdasarkan kode di bawah ini:\n",
        "\n",
        " `path = '//content/drive/MyDrive/Dataset/EconomiesOfScale.csv'`\n",
        "\n",
        "  `df = pd.read_csv(path)`"
      ],
      "metadata": {
        "id": "of8zcSMsh6ui"
      }
    },
    {
      "cell_type": "code",
      "source": [],
      "metadata": {
        "id": "oN5V-5gMiuYB"
      },
      "execution_count": null,
      "outputs": []
    },
    {
      "cell_type": "markdown",
      "source": [
        "Prompt:\n",
        "5. Beri kode untuk menampilkan 5 baris pertama dari DataFrame dengan nama df"
      ],
      "metadata": {
        "id": "-j0UKXbNjS1D"
      }
    },
    {
      "cell_type": "code",
      "source": [],
      "metadata": {
        "id": "PpiiaMyU557R"
      },
      "execution_count": null,
      "outputs": []
    },
    {
      "cell_type": "markdown",
      "source": [
        "Prompt:\n",
        "6. Beri kode untuk menampilkan 5 baris terakhir dari DataFrame dengan nama df"
      ],
      "metadata": {
        "id": "aPK5QeVSjcfi"
      }
    },
    {
      "cell_type": "code",
      "source": [],
      "metadata": {
        "id": "sXqB1OUaT58G"
      },
      "execution_count": null,
      "outputs": []
    },
    {
      "cell_type": "markdown",
      "source": [
        "Prompt:\n",
        "7. Beri kode untuk menampilkan informasi dasar tentang DataFrame dengan nama df"
      ],
      "metadata": {
        "id": "wMKhn3eejpLX"
      }
    },
    {
      "cell_type": "code",
      "source": [],
      "metadata": {
        "id": "AFV_mRJ05_7j"
      },
      "execution_count": null,
      "outputs": []
    },
    {
      "cell_type": "markdown",
      "source": [
        "##**2.2. LIBRARY PANDAS UNTUK MENGUBAH DATA**"
      ],
      "metadata": {
        "id": "ZHvii7ibkXvb"
      }
    },
    {
      "cell_type": "markdown",
      "source": [
        "Prompt:\n",
        "8. Beri kode untuk menambahkan koLom Cost per Unit pada dataframe yang bernama df (**Number of Units** dan **Manufacturing Cost**)"
      ],
      "metadata": {
        "id": "-ekTcyPZll1K"
      }
    },
    {
      "cell_type": "code",
      "source": [],
      "metadata": {
        "id": "RPeZ8WPy6SpP"
      },
      "execution_count": null,
      "outputs": []
    },
    {
      "cell_type": "markdown",
      "source": [
        "##**2.3. LIBRARY MATPLOTLIB UNTUK MEMVISUALISASIKAN DATA**"
      ],
      "metadata": {
        "id": "-s0Fw91mnDyh"
      }
    },
    {
      "cell_type": "markdown",
      "source": [
        "Prompt:\n",
        "9. Beri kode untuk menampilkan boxplot untuk fitur Numer of Units, Manufacturing Cost, dan Cost per Unit"
      ],
      "metadata": {
        "id": "b5g60KIIoZeB"
      }
    },
    {
      "cell_type": "code",
      "source": [],
      "metadata": {
        "id": "JJyI7HA7CHKQ"
      },
      "execution_count": null,
      "outputs": []
    },
    {
      "cell_type": "markdown",
      "source": [
        "Prompt:\n",
        "10. Beri kode untuk menampilkan scatter plot dataframe df dengan kolom Number of Units dan Manufacturing  Cost"
      ],
      "metadata": {
        "id": "t9TA3JKup35D"
      }
    },
    {
      "cell_type": "code",
      "source": [],
      "metadata": {
        "id": "vccLvyJr6fvq"
      },
      "execution_count": null,
      "outputs": []
    },
    {
      "cell_type": "markdown",
      "source": [
        "##**2.4. LIBRARY NUMPY DATA**"
      ],
      "metadata": {
        "id": "_zVkPZUUp_bX"
      }
    },
    {
      "cell_type": "markdown",
      "source": [
        "Prompt:\n",
        "11. Beri kode untuk mengubah dataframe df yang terdiri dari kolom Number of Units, Manufacturing Cost, Cost per Unit menjadi array"
      ],
      "metadata": {
        "id": "EmgwYxEWuFkI"
      }
    },
    {
      "cell_type": "code",
      "source": [],
      "metadata": {
        "id": "4OXKU4O9si4X"
      },
      "execution_count": null,
      "outputs": []
    },
    {
      "cell_type": "markdown",
      "source": [
        "Prompt:\n",
        "12. Beri kode untuk mengurutkan data dengan nama data: data_array, berdasarkan elemen ke tiga dari array dengan nilai yang terkecil ke nilai yang terbesar"
      ],
      "metadata": {
        "id": "knkYJ8AcuAVP"
      }
    },
    {
      "cell_type": "code",
      "source": [],
      "metadata": {
        "id": "3pk5iLvhtuBX"
      },
      "execution_count": null,
      "outputs": []
    }
  ]
}