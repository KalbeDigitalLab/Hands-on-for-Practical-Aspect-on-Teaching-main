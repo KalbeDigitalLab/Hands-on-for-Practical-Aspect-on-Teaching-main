{
  "cells": [
    {
      "cell_type": "markdown",
      "metadata": {
        "id": "KPOLQKwAkyBG"
      },
      "source": [
        "# CDF dan Modeling\n",
        "\n",
        "Dataset Chiller from B7 dan SAKA"
      ]
    },
    {
      "cell_type": "markdown",
      "metadata": {
        "id": "6jE0MXWMk6-h"
      },
      "source": [
        "## 1. Load Dataset\n",
        "\n",
        "ChatGPT Prompt:\n",
        "\n",
        "Berikan saya code untuk  Cara menghubungkan google colab dengan google drive"
      ]
    },
    {
      "cell_type": "code",
      "execution_count": null,
      "metadata": {},
      "outputs": [],
      "source": []
    },
    {
      "cell_type": "markdown",
      "metadata": {
        "id": "I9CmD9KHweWW"
      },
      "source": [
        "ChatGPT Prompt:\n",
        "\n",
        "Beri kode untuk membaca dataset \"Chiller.xlsx\" disimpan dengan nama dataframe 'df', sesuaikan path filenya"
      ]
    },
    {
      "cell_type": "code",
      "execution_count": null,
      "metadata": {},
      "outputs": [],
      "source": []
    },
    {
      "cell_type": "markdown",
      "metadata": {
        "id": "9tGdVu9JnSIk"
      },
      "source": [
        "## 2. Cumulative Distribution Function"
      ]
    },
    {
      "cell_type": "markdown",
      "metadata": {
        "id": "0L6fu5dmQN_5"
      },
      "source": [
        "### 2.1. CDF for Visualizing Distributions\n",
        "\n",
        "ChatGPT Prompt: Berikan code untuk menampilkan CDF pada kolom \"Cond Sat Temperature\" pada dataset dengan Line Graph, Step Function, Histogram, dan Emprical CDF"
      ]
    },
    {
      "cell_type": "code",
      "execution_count": null,
      "metadata": {},
      "outputs": [],
      "source": []
    },
    {
      "cell_type": "markdown",
      "metadata": {
        "id": "s9NUI22ClPQ6"
      },
      "source": [
        "### 2.2. CDF for Comparing Distributions\n",
        "\n",
        "ChatGPT Prompt: Pada sel selanjutnya di google colab, berikan code untuk menampilkan perbandingan CDF pada kolom \"Evap LWT\", \"Evap EWT\", dan  \"Evap Sat Temperature\" pada dataset tersebut dalam satu grafik."
      ]
    },
    {
      "cell_type": "code",
      "execution_count": null,
      "metadata": {},
      "outputs": [],
      "source": []
    },
    {
      "cell_type": "markdown",
      "metadata": {
        "id": "Y8nqh4drP7hy"
      },
      "source": [
        "### 2.3. Percentiles Based Statistics\n",
        "\n",
        "ChatGPT Prompt: Berikan code untuk menampilkan batas data outliers pada grafik CDF untuk kolom \"Discharge Temperature\", kemudian tampilkan pula grafik boxplot sebagai perbandingan"
      ]
    },
    {
      "cell_type": "code",
      "execution_count": null,
      "metadata": {},
      "outputs": [],
      "source": []
    },
    {
      "cell_type": "markdown",
      "metadata": {
        "id": "K-1uPM3qUFXV"
      },
      "source": [
        "### 2.4. Checking Distribution Fit\n",
        "\n",
        "ChatGPT Prompt: Berikan code untuk memvisualisasikan perbandingan ECDF menggunakan statsmodels dan Theorretical Normal CDF pada kolom \"Oil Pressure\""
      ]
    },
    {
      "cell_type": "code",
      "execution_count": null,
      "metadata": {},
      "outputs": [],
      "source": []
    },
    {
      "cell_type": "markdown",
      "metadata": {
        "id": "dSrUl0fAUNU6"
      },
      "source": [
        "## 3. Modeling Distribution"
      ]
    },
    {
      "cell_type": "markdown",
      "metadata": {
        "id": "jHgSXR8VUQX7"
      },
      "source": [
        "\n",
        "ChatGPT Prompt: Tampilkan kode Python berikut yang digunakan untuk mengkonstruksi distribusi eksponensial, distribusi normal, normal probability plot, distribusi log-normal, dan distribusi Pareto untuk kolom \"Ampere S-T\" dalam dataset\n"
      ]
    },
    {
      "cell_type": "code",
      "execution_count": null,
      "metadata": {},
      "outputs": [],
      "source": []
    }
  ],
  "metadata": {
    "colab": {
      "provenance": []
    },
    "kernelspec": {
      "display_name": "Python 3",
      "name": "python3"
    },
    "language_info": {
      "name": "python"
    }
  },
  "nbformat": 4,
  "nbformat_minor": 0
}
