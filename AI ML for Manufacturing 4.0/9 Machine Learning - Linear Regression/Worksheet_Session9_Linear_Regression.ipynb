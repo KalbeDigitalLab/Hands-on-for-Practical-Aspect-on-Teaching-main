{
  "cells": [
    {
      "cell_type": "markdown",
      "metadata": {
        "id": "1IvppSw-IQex"
      },
      "source": [
        "# Session 6 SHP - Machine Learning\n",
        "\n",
        "## Linear Regression\n",
        "\n",
        "Dalam Machine Learning, Linear Regression adalah metode untuk memprediksi nilai numerik berdasarkan hubungan linier antara variabel independen (fitur) dan variabel dependen (target).\n",
        "\n",
        "Dalam konteks manufaktur produk bahan baku bubuk atau powder, regresi linier dapat digunakan untuk memahami dan memprediksi berbagai aspek produksi berdasarkan dataset Filling A1. Sebagai contoh:\n",
        "\n",
        "**Kasus Penggunaan 1: Prediksi Berat Isi Kemasan**\n",
        "\n",
        "Misalkan Anda bertanggung jawab atas mesin pengisi yang mengemas bahan baku bubuk ke dalam kemasan. Anda ingin memastikan bahwa setiap kemasan diisi dengan jumlah bubuk yang tepat - tidak terlalu banyak dan tidak terlalu sedikit, karena kesalahan ini bisa menyebabkan pemborosan produk atau kekecewaan pelanggan.\n",
        "\n",
        "Anda mengumpulkan data historis dari mesin, termasuk kecepatan auger (yang menentukan seberapa cepat bubuk diisi), suhu penyegelan kemasan, dan berat aktual kemasan yang telah diisi. Dengan menggunakan regresi linier, Anda dapat membangun model yang memprediksi berat kemasan berdasarkan kecepatan auger dan suhu penyegelan.\n",
        "\n",
        "**Kasus Penggunaan 2: Optimasi Pengaturan Mesin**\n",
        "\n",
        "Dalam kasus lain, mungkin Anda ingin mengoptimalkan pengaturan mesin untuk mengurangi konsumsi energi atau meningkatkan kecepatan produksi tanpa mengorbankan kualitas produk. Anda mungkin memiliki data tentang berapa banyak energi yang digunakan mesin, berat kemasan, dan waktu yang dibutuhkan untuk mengisi kemasan tertentu.\n",
        "\n",
        "Regresi linier dapat digunakan untuk mengeksplorasi hubungan antara konsumsi energi (sebagai variabel independen) dan berat kemasan (sebagai variabel dependen). Dengan demikian, Anda dapat menemukan setting kecepatan auger yang paling efisien yang masih menghasilkan berat kemasan yang diinginkan.\n",
        "\n",
        "**Kasus Penggunaan 3: Menjamin Kualitas Produk**\n",
        "\n",
        "Anda juga mungkin tertarik untuk memastikan kualitas produk tetap konsisten. Dalam hal ini, regresi linier bisa membantu Anda memahami seberapa besar pengaruh faktor-faktor seperti kecepatan auger, waktu penyegelan, dan suhu penyegelan terhadap variasi berat produk yang dihasilkan. Jika model menunjukkan bahwa faktor-faktor tertentu sangat mempengaruhi berat, maka Anda dapat menyesuaikan pengaturan tersebut untuk mencapai konsistensi yang lebih besar.\n",
        "\n",
        "Dalam semua kasus ini, model regresi linier memberikan wawasan tentang hubungan antara variabel-variabel yang berbeda dan memungkinkan pengambilan keputusan yang lebih berdasarkan data untuk optimisasi proses produksi."
      ]
    },
    {
      "cell_type": "markdown",
      "metadata": {
        "id": "4_xzqd7UKXWY"
      },
      "source": [
        "## 1. Load Dataset \"Data FillingA1\""
      ]
    },
    {
      "cell_type": "markdown",
      "metadata": {
        "id": "3rw-bUdhKhB-"
      },
      "source": [
        "**ChatGPT Prompt:**\n",
        "\n",
        "Berikan saya code python untuk menghubungkan google colab dengan google drive"
      ]
    },
    {
      "cell_type": "code",
      "execution_count": 2,
      "metadata": {
        "colab": {
          "base_uri": "https://localhost:8080/"
        },
        "id": "drmET9Yg43S1",
        "outputId": "0482f65d-62a7-4dfc-b1b9-2fa582e00276"
      },
      "outputs": [
        {
          "name": "stdout",
          "output_type": "stream",
          "text": [
            "Mounted at /content/drive\n"
          ]
        }
      ],
      "source": [
        "from google.colab import drive\n",
        "drive.mount('/content/drive')\n"
      ]
    },
    {
      "cell_type": "markdown",
      "metadata": {
        "id": "6w_PdCGPKuQS"
      },
      "source": [
        "**ChatGPT Prompt:**\n",
        "\n",
        "Berikan code untuk load dataset \"Data FillingA1.xlsx' pada folder Dataset di google drive"
      ]
    },
    {
      "cell_type": "code",
      "execution_count": null,
      "metadata": {},
      "outputs": [],
      "source": []
    },
    {
      "cell_type": "markdown",
      "metadata": {
        "id": "hPrxlMMeNd4U"
      },
      "source": [
        "Dataset **\"Filling Mesin A1\"** memiliki kolom-kolom berikut:\n",
        "\n",
        "1. **dtmInsertedDate**: Tanggal dan waktu perekaman data, dengan format tahun-bulan-hari dan jam:menit:detik.milidetik.\n",
        "2. **intAugerAcc**: Nilai akumulasi Auger, kemungkinan berhubungan dengan jumlah atau volume material yang diproses.\n",
        "3. **intSpeedDischarge**: Kecepatan pengeluaran material dari mesin.\n",
        "4. **intAugerTimeError**: Waktu kesalahan Auger, mungkin mengindikasikan penyimpangan dalam operasi normal.\n",
        "5. **intCrossJawSealTime**: Waktu penyegelan Cross Jaw, dalam milidetik.\n",
        "6. **intVerticalSealTime**: Waktu penyegelan Vertikal.\n",
        "7. **decCrossJawFrontSet**: Pengaturan suhu depan Cross Jaw, dalam derajat.\n",
        "8. **decCrossJawFrontActual**: Suhu aktual depan Cross Jaw.\n",
        "9. **decCrossJawRearSet**: Pengaturan suhu belakang Cross Jaw.\n",
        "10. **decCrossJawRearActual**: Suhu aktual belakang Cross Jaw.\n",
        "11. **decVerticalJawSet**: Pengaturan suhu Jaw Vertikal.\n",
        "12. **decVerticalJawActual**: Suhu aktual Jaw Vertikal.\n",
        "13. **intWeight**: Berat, kemungkinan berhubungan dengan material yang diproses.\n",
        "14. **intAugerSpeed**: Kecepatan Auger.\n",
        "15. **Weight**: Berat tambahan atau koreksi berat.\n",
        "16. **decimalBagLength**: Panjang kantong atau bungkus, dalam desimal.\n",
        "17. **intMachineSpeed**: Kecepatan mesin.\n",
        "18. **NoBO**: Nomor Batch Order atau identifikasi batch.\n",
        "Kolom-kolom ini tampaknya menggambarkan parameter operasional dan pengukuran yang terkait dengan proses pengisian mesin A1, termasuk suhu, kecepatan, waktu, dan pengukuran berat"
      ]
    },
    {
      "cell_type": "markdown",
      "metadata": {
        "id": "aP6Vc7kPLl2V"
      },
      "source": [
        "## 2. EDA (Exploratory Data Analysis)"
      ]
    },
    {
      "cell_type": "markdown",
      "metadata": {
        "id": "ZJ37OZMfLcK-"
      },
      "source": [
        "**ChatGPT Prompt:**\n",
        "\n",
        "Berikan code untuk melakukan EDA pada dataset tersebut"
      ]
    },
    {
      "cell_type": "code",
      "execution_count": null,
      "metadata": {},
      "outputs": [],
      "source": []
    },
    {
      "cell_type": "markdown",
      "metadata": {
        "id": "2_DxPVfpPhAm"
      },
      "source": [
        "## 3. Feature Selection\n",
        "\n",
        "Feature selection adalah proses memilih fitur yang paling relevan untuk digunakan dalam model Machine Learning. Dalam konteks Simple Linear Regression, yang merupakan metode regresi paling dasar dan mengasumsikan hubungan linear antara satu fitur independen dan variabel dependen (target), feature selection menjadi sangat penting untuk memastikan efektivitas dan efisiensi model.\n",
        "\n",
        "Dari eksperimen menggunakan Orange Data Mining, kita akan menggunakan **kolom \"intAugerSpeed\" sebagai fitur dan kolom \"Weight\" sebagai target**"
      ]
    },
    {
      "cell_type": "markdown",
      "metadata": {
        "id": "SPFMcpTNPDxr"
      },
      "source": [
        "Dalam konteks manufaktur, kolom \"Berat\" (Weight) sebagai target mengacu pada tujuan untuk memprediksi berat produk berdasarkan parameter operasional mesin, seperti kecepatan auger (intAugerSpeed), suhu, dan kecepatan mesin. Pendekatan ini sangat relevan jika Anda ingin memantau kinerja mesin untuk memastikan bahwa produk diisi hingga mencapai berat tertentu, yang merupakan prosedur kontrol kualitas yang umum dalam manufaktur.\n",
        "\n",
        "Apabila \"Berat\" adalah hasil yang ingin Anda kendalikan (membuatnya sebagai target), maka Anda akan membangun model untuk memprediksi berat berdasarkan variabel-variabel seperti kecepatan auger. Dalam kebanyakan proses manufaktur, \"Berat\" sering kali menjadi variabel target karena tujuannya biasanya adalah untuk memastikan bahwa setiap produk memenuhi spesifikasi berat tertentu."
      ]
    },
    {
      "cell_type": "markdown",
      "metadata": {
        "id": "Rfux_9pePnYK"
      },
      "source": [
        "**ChatGPT Prompt:**\n",
        "\n",
        "Berikan code untuk membagi dataset menjadi data training dan testing untuk machine learning. Atur kolom \"intAugerSpeed\" menjadi fitur dan kolom \"Weight\" menjadi target\n"
      ]
    },
    {
      "cell_type": "code",
      "execution_count": null,
      "metadata": {},
      "outputs": [],
      "source": []
    },
    {
      "cell_type": "markdown",
      "metadata": {
        "id": "gbf3VBfJRL98"
      },
      "source": [
        "## 4. Training Machine Learning\n",
        "\n",
        "Untuk melatih model regresi linier menggunakan dataset yang Anda miliki dan kemudian mengevaluasi model tersebut, Anda dapat menggunakan library scikit-learn di Python. Langkah-langkahnya termasuk melatih model dengan data training (X_train dan y_train) dan kemudian mengevaluasi kinerjanya dengan data testing (X_test dan y_test)."
      ]
    },
    {
      "cell_type": "code",
      "execution_count": null,
      "metadata": {},
      "outputs": [],
      "source": []
    },
    {
      "cell_type": "markdown",
      "metadata": {
        "id": "JtfdA7ztRbZt"
      },
      "source": [
        "Dalam kode ini:\n",
        "\n",
        "* **LinearRegression()** digunakan untuk membuat instance model regresi linier.\n",
        "* **fit** digunakan untuk melatih model dengan data training.\n",
        "* **predict** digunakan untuk membuat prediksi pada data testing.\n",
        "* **mean_squared_error** dan **r2_score** digunakan untuk menghitung metrik evaluasi. Mean Squared Error (MSE) adalah rata-rata kuadrat error antara nilai sebenarnya dan nilai prediksi, sedangkan R^2 Score (koefisien determinasi) mengukur seberapa baik model dapat menjelaskan variabilitas data.\n",
        "\n",
        "Metrik evaluasi ini memberikan informasi tentang kinerja model. MSE yang rendah dan R^2 yang tinggi menunjukkan model yang lebih baik. Namun, interpretasi metrik ini juga harus mempertimbangkan konteks dan jenis data yang digunakan."
      ]
    },
    {
      "cell_type": "markdown",
      "metadata": {
        "id": "CqNVTciBSGbC"
      },
      "source": [
        "## 5. Actual vs Predicted\n",
        "\n",
        "ChatGPT Prompt:\n",
        "\n",
        "Berikan code untuk menampilkan data prediksi dari hasil linear regression dengan data sebenarnya"
      ]
    },
    {
      "cell_type": "code",
      "execution_count": null,
      "metadata": {},
      "outputs": [],
      "source": []
    }
  ],
  "metadata": {
    "accelerator": "GPU",
    "colab": {
      "gpuType": "T4",
      "provenance": []
    },
    "kernelspec": {
      "display_name": "Python 3",
      "name": "python3"
    },
    "language_info": {
      "name": "python"
    }
  },
  "nbformat": 4,
  "nbformat_minor": 0
}
