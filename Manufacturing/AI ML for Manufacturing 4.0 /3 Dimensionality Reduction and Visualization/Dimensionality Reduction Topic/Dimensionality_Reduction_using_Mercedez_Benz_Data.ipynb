{
  "nbformat": 4,
  "nbformat_minor": 0,
  "metadata": {
    "colab": {
      "provenance": [],
      "gpuType": "T4"
    },
    "kernelspec": {
      "name": "python3",
      "display_name": "Python 3"
    },
    "language_info": {
      "name": "python"
    },
    "accelerator": "GPU"
  },
  "cells": [
    {
      "cell_type": "markdown",
      "source": [
        "#Dimensionality Reduction using Mercedez-Benz Greener Manufacturing\n",
        "\n",
        "**Citation:** Alexander Novy, CH1Mercedes, Christian Drescher, Christian Pfaundler, KOESIM, Will Cukierski. (2017). Mercedes-Benz Greener Manufacturing. Kaggle. https://kaggle.com/competitions/mercedes-benz-greener-manufacturing"
      ],
      "metadata": {
        "id": "XZ7yr3klg1Ml"
      }
    },
    {
      "cell_type": "markdown",
      "source": [
        "References:\n",
        "\n",
        "* [Kaggle Original Source of Mercedes-Benz-Greener](https://www.kaggle.com/competitions/mercedes-benz-greener-manufacturing/overview)\n",
        "* [Github Documentation of Mercedes-Benz Greener](https://github.com/subhadipml/Mercedes-Benz-Greener-Manufacturing)\n",
        "* [Medium Documentation of Mercedes-Benz with ML](https://medium.com/swlh/greener-manufacturing-with-machine-learning-6ec77d0e7a91)\n",
        "*[Medium Documentation of Mercedes-Benz with Stacking ML Algorithm](https://blog.goodaudience.com/stacking-ml-algorithm-for-mercedes-benz-greener-manufacturing-competition-5600762186ae)\n",
        "\n"
      ],
      "metadata": {
        "id": "-7bkdw1ZkfH0"
      }
    },
    {
      "cell_type": "markdown",
      "source": [
        "**Dimensionality Reduction**\n",
        "\n",
        "**1. What is Dimensionality Reduction?**\n",
        "\n",
        "   - **Definition**: Dimensionality reduction is a technique used to reduce the number of features (variables or dimensions) in a dataset while preserving its essential information and patterns.\n",
        "   \n",
        "   - **Objective**: Simplify complex datasets, remove noise, improve computational efficiency, and aid in data visualization.\n",
        "\n",
        "**2. Why Use Dimensionality Reduction?**\n",
        "\n",
        "   - **Curse of Dimensionality**: High-dimensional data can be challenging to work with, leading to increased computation time and overfitting.\n",
        "   \n",
        "   - **Noise Reduction**: Eliminate noisy or irrelevant features that don't contribute significantly to model performance.\n",
        "   \n",
        "   - **Visualization**: Reduce data to a lower dimension for easy visualization in 2D or 3D space.\n",
        "   \n",
        "   - **Interpretability**: Simplify data for better human understanding.\n",
        "\n",
        "**3. Techniques for Dimensionality Reduction:**\n",
        "\n",
        "   - **Principal Component Analysis (PCA)**:\n",
        "     - Linear technique that finds orthogonal axes (principal components) capturing maximum variance.\n",
        "     - Commonly used for numerical data.\n",
        "   \n",
        "   - **Truncated Singular Value Decomposition (tSVD)**:\n",
        "     - Linear technique similar to PCA but applied to sparse matrices.\n",
        "     - Suitable for text and sparse data.\n",
        "   \n",
        "   - **Independent Component Analysis (ICA)**:\n",
        "     - Linear technique that separates mixed signals into independent components.\n",
        "     - Useful for separating sources in signal processing.\n",
        "   \n",
        "   - **t-Distributed Stochastic Neighbor Embedding (t-SNE)**:\n",
        "     - Non-linear technique for visualizing high-dimensional data in lower dimensions.\n",
        "     - Excellent for data visualization.\n",
        "   \n",
        "   - **Autoencoders**:\n",
        "     - Neural network-based technique that learns a compressed representation of the data.\n",
        "     - Suitable for non-linear data and deep learning.\n",
        "   \n",
        "   - **Feature Selection**:\n",
        "     - Not strictly dimensionality reduction but involves selecting the most important features based on relevance and importance scores.\n",
        "\n",
        "**4. How to Decide Which Features to Use/Drop:**\n",
        "\n",
        "   - **Explained Variance**:\n",
        "     - In PCA and tSVD, check the explained variance ratio to see how much variance each component captures.\n",
        "     - Choose the number of components that retain a significant portion of the total variance (e.g., 95% or more).\n",
        "   \n",
        "   - **Feature Importance**:\n",
        "     - In tree-based models (e.g., Random Forest), use feature importance scores to identify relevant features.\n",
        "   \n",
        "   - **Correlation Analysis**:\n",
        "     - Analyze feature correlations to identify highly correlated or redundant features.\n",
        "     - Keep one feature from a highly correlated pair.\n",
        "   \n",
        "   - **Univariate Feature Selection**:\n",
        "     - Use statistical tests (e.g., chi-squared, ANOVA) to select features with the strongest relationship to the target variable.\n",
        "   \n",
        "   - **Domain Knowledge**:\n",
        "     - Leverage domain expertise to identify and retain features known to be important for the problem.\n",
        "   \n",
        "   - **Recursive Feature Elimination (RFE)**:\n",
        "     - Iteratively remove the least important features until a desired number remains.\n",
        "   \n",
        "   - **Regularization**:\n",
        "     - In linear models, regularization techniques (e.g., L1/L2 regularization) can automatically shrink or eliminate less important features.\n",
        "\n",
        "**5. Key Takeaways:**\n",
        "\n",
        "   - Dimensionality reduction simplifies high-dimensional data while preserving key information.\n",
        "   \n",
        "   - The choice of technique depends on the nature of the data and the problem.\n",
        "   \n",
        "   - Selecting features to use or drop requires a combination of statistical analysis, domain knowledge, and experimentation.\n",
        "   \n",
        "   - It's essential to strike a balance between dimensionality reduction and information loss to maintain model performance.\n",
        "\n",
        "Feel free to use this cheat sheet as a reference to explain dimensionality reduction concepts to your students, and adapt it as needed to suit your teaching style and specific examples."
      ],
      "metadata": {
        "id": "ud-DjGTs5CZt"
      }
    },
    {
      "cell_type": "markdown",
      "source": [
        "**Prompt for Generating Code**\n",
        "\n",
        "To get every cell of code, you can use the following prompts:\n",
        "\n",
        "1. \"Load the dataset and display basic information.\"\n",
        "2. \"Check for missing values in the dataset.\"\n",
        "3. \"Display summary statistics of the dataset.\"\n",
        "4. \"Visualize the distribution of the target variable 'y'.\"\n",
        "5. \"Standardize the features.\"\n",
        "6. \"Apply PCA for dimensionality reduction with a specific number of components.\"\n",
        "7. \"Print the explained variance ratio.\"\n",
        "8. \"Generate code to visualize the principal components.\"\n",
        "9. \"Generate code to interpret the results and choose the number of components.\"\n",
        "10. \"Conclusion and insights from dimensionality reduction.\"\n",
        "\n",
        "Feel free to use these prompts to navigate through the code cells for each step in your interaction with GPT-3. You can specify the step number or ask for explanations as needed."
      ],
      "metadata": {
        "id": "5oFdhFnd15Um"
      }
    },
    {
      "cell_type": "markdown",
      "source": [
        "Here's a hands-on guide on practical dimensionality reduction using the Mercedes-Benz dataset and Python. We will follow the steps you outlined, including dataset exploration, dimensionality reduction, and providing comments and explanations for each code block. We will use Principal Component Analysis (PCA) as the dimensionality reduction technique.\n",
        "\n",
        "##**Step 1: Dataset Description and Problem**\n",
        "\n",
        "The Mercedes-Benz dataset contains features representing custom features in Mercedes cars, and the goal is to predict the time (in seconds) it takes for each car configuration to pass testing.\n",
        "\n",
        "##**Step 2: Exploratory Data Analysis (EDA)**\n",
        "\n",
        "Let's start by exploring the dataset to gain a better understanding of its structure and characteristics."
      ],
      "metadata": {
        "id": "uF6wuAE7xQiq"
      }
    },
    {
      "cell_type": "code",
      "execution_count": 2,
      "metadata": {
        "colab": {
          "base_uri": "https://localhost:8080/",
          "height": 1000
        },
        "id": "3_xuzeffgp87",
        "outputId": "2871bd5c-4add-43d8-cec5-d2fc0a11eeec"
      },
      "outputs": [
        {
          "output_type": "stream",
          "name": "stdout",
          "text": [
            "<class 'pandas.core.frame.DataFrame'>\n",
            "RangeIndex: 4209 entries, 0 to 4208\n",
            "Columns: 378 entries, ID to X385\n",
            "dtypes: float64(1), int64(369), object(8)\n",
            "memory usage: 12.1+ MB\n",
            "None\n",
            "ID      0\n",
            "y       0\n",
            "X0      0\n",
            "X1      0\n",
            "X2      0\n",
            "       ..\n",
            "X380    0\n",
            "X382    0\n",
            "X383    0\n",
            "X384    0\n",
            "X385    0\n",
            "Length: 378, dtype: int64\n",
            "                ID            y          X10     X11          X12  \\\n",
            "count  4209.000000  4209.000000  4209.000000  4209.0  4209.000000   \n",
            "mean   4205.960798   100.669318     0.013305     0.0     0.075077   \n",
            "std    2437.608688    12.679381     0.114590     0.0     0.263547   \n",
            "min       0.000000    72.110000     0.000000     0.0     0.000000   \n",
            "25%    2095.000000    90.820000     0.000000     0.0     0.000000   \n",
            "50%    4220.000000    99.150000     0.000000     0.0     0.000000   \n",
            "75%    6314.000000   109.010000     0.000000     0.0     0.000000   \n",
            "max    8417.000000   265.320000     1.000000     0.0     1.000000   \n",
            "\n",
            "               X13          X14          X15          X16          X17  ...  \\\n",
            "count  4209.000000  4209.000000  4209.000000  4209.000000  4209.000000  ...   \n",
            "mean      0.057971     0.428130     0.000475     0.002613     0.007603  ...   \n",
            "std       0.233716     0.494867     0.021796     0.051061     0.086872  ...   \n",
            "min       0.000000     0.000000     0.000000     0.000000     0.000000  ...   \n",
            "25%       0.000000     0.000000     0.000000     0.000000     0.000000  ...   \n",
            "50%       0.000000     0.000000     0.000000     0.000000     0.000000  ...   \n",
            "75%       0.000000     1.000000     0.000000     0.000000     0.000000  ...   \n",
            "max       1.000000     1.000000     1.000000     1.000000     1.000000  ...   \n",
            "\n",
            "              X375         X376         X377         X378         X379  \\\n",
            "count  4209.000000  4209.000000  4209.000000  4209.000000  4209.000000   \n",
            "mean      0.318841     0.057258     0.314802     0.020670     0.009503   \n",
            "std       0.466082     0.232363     0.464492     0.142294     0.097033   \n",
            "min       0.000000     0.000000     0.000000     0.000000     0.000000   \n",
            "25%       0.000000     0.000000     0.000000     0.000000     0.000000   \n",
            "50%       0.000000     0.000000     0.000000     0.000000     0.000000   \n",
            "75%       1.000000     0.000000     1.000000     0.000000     0.000000   \n",
            "max       1.000000     1.000000     1.000000     1.000000     1.000000   \n",
            "\n",
            "              X380         X382         X383         X384         X385  \n",
            "count  4209.000000  4209.000000  4209.000000  4209.000000  4209.000000  \n",
            "mean      0.008078     0.007603     0.001663     0.000475     0.001426  \n",
            "std       0.089524     0.086872     0.040752     0.021796     0.037734  \n",
            "min       0.000000     0.000000     0.000000     0.000000     0.000000  \n",
            "25%       0.000000     0.000000     0.000000     0.000000     0.000000  \n",
            "50%       0.000000     0.000000     0.000000     0.000000     0.000000  \n",
            "75%       0.000000     0.000000     0.000000     0.000000     0.000000  \n",
            "max       1.000000     1.000000     1.000000     1.000000     1.000000  \n",
            "\n",
            "[8 rows x 370 columns]\n"
          ]
        },
        {
          "output_type": "display_data",
          "data": {
            "text/plain": [
              "<Figure size 1000x600 with 1 Axes>"
            ],
            "image/png": "[encoded data removed]"
          },
          "metadata": {}
        }
      ],
      "source": [
        "# Import necessary libraries\n",
        "import pandas as pd\n",
        "import numpy as np\n",
        "import matplotlib.pyplot as plt\n",
        "import seaborn as sns\n",
        "\n",
        "# Load the dataset\n",
        "train = pd.read_csv('train.csv')\n",
        "\n",
        "# Display basic information about the dataset\n",
        "print(train.info())\n",
        "\n",
        "# Check for missing values\n",
        "print(train.isnull().sum())\n",
        "\n",
        "# Summary statistics\n",
        "print(train.describe())\n",
        "\n",
        "# Visualize the distribution of the target variable 'y'\n",
        "plt.figure(figsize=(10, 6))\n",
        "sns.histplot(train['y'], bins=30, kde=True)\n",
        "plt.title('Distribution of Target Variable (y)')\n",
        "plt.xlabel('Time (seconds)')\n",
        "plt.show()"
      ]
    },
    {
      "cell_type": "markdown",
      "source": [
        "The needs of dimensionality reduction:\n",
        "\n",
        "**1. Understanding the Dataset:**\n",
        "   - Your dataset has 4,209 entries (rows) and 378 columns (features).\n",
        "   - The data types include float64, int64, and object (categorical).\n",
        "   - There are no missing values in the dataset.\n",
        "\n",
        "**2. Features in the Dataset:**\n",
        "   - Each column in the dataset represents a feature or attribute. These features are labeled as 'X0' to 'X385'.\n",
        "   - Features 'ID' and 'y' are also present.\n",
        "   - Most of the features (369 out of 378) are integer values, while one is a floating-point number, and eight are categorical (object) features.\n",
        "\n",
        "**3. Why Dimensionality Reduction is Needed:**\n",
        "   - With 378 features, the dataset is considered high-dimensional.\n",
        "   - High-dimensionality can lead to several challenges:\n",
        "\n",
        "**A. Computational Complexity:**\n",
        "   - High-dimensional data requires significantly more computational resources (memory, processing time) for analysis.\n",
        "   - Running algorithms and models on high-dimensional data can be slow and resource-intensive.\n",
        "\n",
        "**B. Curse of Dimensionality:**\n",
        "   - High-dimensional spaces can be sparse, meaning data points are far apart from each other.\n",
        "   - This sparsity can lead to overfitting when building machine learning models because the model may capture noise rather than real patterns.\n",
        "\n",
        "**C. Visualization Challenges:**\n",
        "   - Visualizing data in high-dimensional space is difficult for humans.\n",
        "   - It's challenging to plot or understand data with more than three dimensions.\n",
        "\n",
        "**4. When to Consider Dimensionality Reduction:**\n",
        "   - Dimensionality reduction techniques should be considered when:\n",
        "     - The dataset has a large number of features (high dimensionality).\n",
        "     - Computational resources are limited.\n",
        "     - There's a need for data visualization.\n",
        "     - Overfitting is a concern.\n",
        "\n",
        "**5. Potential Dimensionality Reduction Techniques:**\n",
        "   - Some of the techniques you plan to cover (e.g., PCA, tSVD, feature selection).\n",
        "   - These techniques help reduce the number of features while preserving important information and patterns.\n",
        "\n",
        "**6. Example for Understanding:**\n",
        "   - For instance, consider a dataset with 100 features, each representing different properties of houses. By applying dimensionality reduction, you can combine these features into a smaller set of variables that still capture the most critical aspects of a house, such as size, location, and age, while discarding less important details.\n",
        "\n",
        "**7. Benefits of Dimensionality Reduction:**\n",
        "   - The advantages of dimensionality reduction:\n",
        "     - Faster computation.\n",
        "     - Reduced risk of overfitting.\n",
        "     - Improved visualization.\n",
        "     - Easier model interpretation.\n",
        "\n",
        "**8. Practical Application:**\n",
        "   - Dimensionality reduction is commonly used in various fields, including machine learning, image processing, and natural language processing, to simplify complex data.\n",
        "\n",
        "This is why dimensionality reduction is necessary and how it can benefit data analysis and machine learning tasks."
      ],
      "metadata": {
        "id": "uqy_5E7q5jF0"
      }
    },
    {
      "cell_type": "markdown",
      "source": [
        "##**Step 3: Dimensionality Reduction (Using PCA)**\n",
        "\n",
        "In this step, we'll apply PCA to reduce the dimensionality of the dataset."
      ],
      "metadata": {
        "id": "bIWJHtCl1mpa"
      }
    },
    {
      "cell_type": "code",
      "source": [
        "from sklearn.decomposition import PCA\n",
        "from sklearn.preprocessing import StandardScaler, LabelEncoder\n",
        "\n",
        "# Identify categorical columns\n",
        "categorical_cols = train.select_dtypes(include=['object']).columns.tolist()\n",
        "\n",
        "# Drop 'ID' and 'y' columns for PCA\n",
        "X = train.drop(['ID', 'y'], axis=1)\n",
        "\n",
        "# Encode categorical features using LabelEncoder\n",
        "label_encoders = {}\n",
        "for col in categorical_cols:\n",
        "    le = LabelEncoder()\n",
        "    X[col] = le.fit_transform(X[col])\n",
        "    label_encoders[col] = le\n",
        "\n",
        "# Standardize the numeric features (PCA works best with standardized data)\n",
        "numeric_cols = X.select_dtypes(include=['number']).columns.tolist()\n",
        "scaler = StandardScaler()\n",
        "X[numeric_cols] = scaler.fit_transform(X[numeric_cols])\n",
        "\n",
        "# Apply PCA with a desired number of components\n",
        "n_components = 10  # You can choose an appropriate number of components\n",
        "pca = PCA(n_components=n_components)\n",
        "X_pca = pca.fit_transform(X)\n",
        "\n",
        "# Explained variance ratio\n",
        "explained_variance_ratio = pca.explained_variance_ratio_\n",
        "print(\"Explained Variance Ratio:\", explained_variance_ratio)"
      ],
      "metadata": {
        "colab": {
          "base_uri": "https://localhost:8080/"
        },
        "id": "daf7oep71oC9",
        "outputId": "535c2981-7faa-4054-a9f3-19b7c0a4f785"
      },
      "execution_count": 5,
      "outputs": [
        {
          "output_type": "stream",
          "name": "stdout",
          "text": [
            "Explained Variance Ratio: [0.06892669 0.05688412 0.04537457 0.03426771 0.03264309 0.03162661\n",
            " 0.02862524 0.02123735 0.01970403 0.01783147]\n"
          ]
        }
      ]
    },
    {
      "cell_type": "markdown",
      "source": [
        "The \"Explained Variance Ratio\" output from PCA provides valuable information about how much of the total variance in the original dataset is explained by each principal component. This information is crucial for understanding the effectiveness of dimensionality reduction and deciding how many principal components to retain.\n",
        "\n",
        "Here's the insight of that output:\n",
        "\n",
        "1. **Interpreting the Explained Variance Ratio**:\n",
        "   - The numbers you see represent the proportion of the total variance in the data that each principal component explains. For example, the first component explains approximately 6.89% of the total variance, the second component explains about 5.69%, and so on.\n",
        "   - These values are in descending order, meaning the first component explains the most variance, followed by the second component, and so forth.\n",
        "\n",
        "2. **Choosing the Number of Components**:\n",
        "   - The goal of PCA is to reduce the dimensionality of the data while retaining as much of the original information (variance) as possible.\n",
        "   - You can decide how many principal components to keep based on your specific objectives. A common approach is to choose a number of components that collectively explain a high percentage of the total variance.\n",
        "   - For example, if you want to retain 95% of the variance, you would sum the explained variance ratios and select the first 'k' components where the cumulative explained variance exceeds 95%.\n",
        "\n",
        "3. **Interpretation and Trade-offs**:\n",
        "   - Each principal component is a linear combination of the original features. When you retain a component, you retain a certain pattern or structure in the data.\n",
        "   - Reducing the number of components can simplify the dataset and speed up subsequent machine learning algorithms. However, it comes at the cost of losing some detailed information present in the original data.\n",
        "\n",
        "4. **Visualization**:\n",
        "   - You can also visualize the explained variance ratio using a scree plot or a cumulative variance plot to see how quickly the variance accumulates with each additional component. This can help in deciding the appropriate number of components visually.\n",
        "\n",
        "5. **Balancing Dimensionality Reduction and Information Loss**:\n",
        "   - It's essential to strike a balance between dimensionality reduction and information loss. A common practice is to experiment with different numbers of components and assess the impact on model performance (e.g., in a predictive modeling task).\n",
        "   - The choice of the number of components may also depend on computational constraints and the specific problem you're solving.\n",
        "\n",
        "In summary, the explained variance ratio in PCA informs us about the contribution of each component to the total variance. It's a critical metric for dimensionality reduction because it helps you make informed decisions about how many components to keep, aiming to retain most of the original data's variability while simplifying the dataset."
      ],
      "metadata": {
        "id": "IR0P7b433OXX"
      }
    },
    {
      "cell_type": "code",
      "source": [
        "from sklearn.decomposition import TruncatedSVD\n",
        "\n",
        "# Separate features and target variable\n",
        "X = train.drop(['ID', 'y'], axis=1)  # Exclude 'ID' and 'y' columns\n",
        "y = train['y']\n",
        "\n",
        "# Identify categorical columns\n",
        "categorical_cols = X.select_dtypes(include=['object']).columns.tolist()\n",
        "\n",
        "# Encode categorical features using LabelEncoder\n",
        "label_encoders = {}\n",
        "for col in categorical_cols:\n",
        "    le = LabelEncoder()\n",
        "    X[col] = le.fit_transform(X[col])\n",
        "    label_encoders[col] = le\n",
        "\n",
        "# Separate numeric and categorical features\n",
        "numeric_cols = X.select_dtypes(include=['number']).columns.tolist()\n",
        "categorical_cols = list(set(X.columns) - set(numeric_cols))\n",
        "\n",
        "# Standardize the numeric features (tSVD works best with standardized data)\n",
        "scaler = StandardScaler()\n",
        "X[numeric_cols] = scaler.fit_transform(X[numeric_cols])\n",
        "\n",
        "# Apply tSVD with a desired number of components\n",
        "n_components = 10  # You can choose an appropriate number of components\n",
        "tsvd = TruncatedSVD(n_components=n_components, random_state=42)\n",
        "X_tsvd = tsvd.fit_transform(X[numeric_cols])\n",
        "\n",
        "# Explained variance ratio\n",
        "explained_variance_ratio = tsvd.explained_variance_ratio_\n",
        "print(\"Explained Variance Ratio:\", explained_variance_ratio)"
      ],
      "metadata": {
        "colab": {
          "base_uri": "https://localhost:8080/"
        },
        "id": "5zSRTUQU3jTw",
        "outputId": "5fe91a16-54ea-48ce-adf4-aefe82fd6499"
      },
      "execution_count": 7,
      "outputs": [
        {
          "output_type": "stream",
          "name": "stdout",
          "text": [
            "Explained Variance Ratio: [0.06892669 0.05688412 0.04537457 0.03426771 0.03264305 0.0316266\n",
            " 0.02862522 0.0212368  0.01969366 0.01782841]\n"
          ]
        }
      ]
    },
    {
      "cell_type": "markdown",
      "source": [
        "##**Step 4: Interpretation and Conclusion**\n",
        "\n",
        "The explained variance ratio tells us how much of the total variance in the data is explained by each principal component. You can decide how many components to keep based on this information and your specific goals."
      ],
      "metadata": {
        "id": "trUJJ6vV1tUI"
      }
    }
  ]
}